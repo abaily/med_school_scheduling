{
 "cells": [
  {
   "cell_type": "markdown",
   "metadata": {},
   "source": []
  },
  {
   "cell_type": "markdown",
   "metadata": {},
   "source": [
    "# Interview Scheduler\n",
    "\n",
    "## Assumptions\n",
    "You don't care about the ordering of the interviews, I.E. you have no preference to say \"I would like to go to the UF interview before the FSU interview\" assuming both were chosen. What this means - this scheduler assumes if you are going to both, you don't care about which day you go if one is on say 11/12 and the other is on 11/13. It's going to randomly pick one. This probably works for virtual interviews, but it's not very realistic for physical interviews. \n",
    "\n",
    "## Running\n",
    "This does not support non google colab. (I mean it does....but like...just click the button)\n",
    "<a href=\"https://colab.research.google.com/github/abaily/med_school_scheduling/blob/main/scheduler.ipynb\">\n",
    "  <img src=\"https://colab.research.google.com/assets/colab-badge.svg\" alt=\"Open In Colab\"/>\n",
    "</a>"
   ]
  },
  {
   "cell_type": "code",
   "execution_count": null,
   "metadata": {},
   "outputs": [],
   "source": [
    "!git clone https://github.com/abaily/med_school_scheduling.git\n",
    "%cd med_school_scheduling/"
   ]
  },
  {
   "cell_type": "code",
   "execution_count": null,
   "metadata": {},
   "outputs": [],
   "source": [
    "#USER MODIFIED VALUES\n",
    "#Blackout dates - dates you would NOT like to do interviews on for whatever reason (holiday, vacation), in format ['11/12', '11/13', '11/14']\n",
    "blackout_dates = ['11/12','11/13','11/14','11/15']\n",
    "#Selected schools - Schools you've already selected, with an interview date, in the format {'10/25': ['University of Florida'], '10:26': ['Florida State']}\n",
    "#NOTE# the date and school name must be EXACTLY as they appear in the csv\n",
    "selected_schools = {'10/25': [\"University of Florida\"]}"
   ]
  },
  {
   "cell_type": "code",
   "execution_count": null,
   "metadata": {},
   "outputs": [],
   "source": [
    "import utils\n",
    "import collections\n",
    "import numpy as np\n",
    "import random as rd \n",
    "\n",
    "\"\"\"Modify DEBUG to 1 if code breaks; modify EXTRA_OUTPUT to 1 if you want to see more stuff printed\n",
    "\"\"\"\n",
    "DEBUG = 0\n",
    "EXTRA_OUTPUT = 0\n",
    "\"\"\"Modify this number to run for longer/shorter. Depending how complex the problem is (how many schools you were accepted to interview for, and how many interview\n",
    "days each school has) you may need to run longer. For 95% of situations, this number is more than large enough\"\"\"\n",
    "GIANT_NUMBER = 10000\n",
    "\n",
    "school_array = np.genfromtxt('School_Date_Tracker.csv', delimiter=',',names=True,dtype=None, encoding=None)\n",
    "\n",
    "school_name_list, date_list, prio_list = utils.parse_school_array(school_array)\n",
    "school_choice_dict = {name:0 for name in school_name_list}\n",
    "unique_date_list = np.sort(utils.get_unique_date_list(date_list))\n",
    "\n",
    "match_dict = {}\n",
    "for date in unique_date_list:\n",
    "    match_dict[date] = [row[0] for row in school_array if date in row]\n",
    "match_dict.update(selected_schools)\n",
    "\n",
    "unique_date_list = [date for date in unique_date_list if date not in blackout_dates]"
   ]
  },
  {
   "cell_type": "code",
   "execution_count": null,
   "metadata": {},
   "outputs": [],
   "source": [
    "if EXTRA_OUTPUT:\n",
    "    for key in match_dict:\n",
    "        print(f'Date: {key} Schools: {match_dict[key]}')"
   ]
  },
  {
   "cell_type": "markdown",
   "metadata": {},
   "source": [
    "## Here comes the limit of my technical competence. Scheduling problem was doable if I wanted to look into cplex modules for python, but uh. We didn't do that. Lot of projects going on and busted this out in a few hours, don't hate me or judge me if this gets shared lul. The following cell might take a while to run. I'd recommend if you're on google colab, you go to the edit settings, and under the runtime option, you make sure \"Gpu\" is selected."
   ]
  },
  {
   "cell_type": "code",
   "execution_count": null,
   "metadata": {},
   "outputs": [],
   "source": [
    "GIANT_NUMBER = 10 #Change this value to determine how long you want this to run for\n",
    "school_value = 0\n",
    "print(f'Starting School Value: {school_value}')\n",
    "prio_list = np.ones(len(prio_list))\n",
    "\n",
    "optimal_dict = {}\n",
    "\n",
    "for i in range(GIANT_NUMBER): #lul don't judge me on how hacky this is\n",
    "\n",
    "    school_choice_dict.update((k,0) for k in school_choice_dict)\n",
    "    chosen_list = []\n",
    "    comparison_dict = {}\n",
    "    keys = list(match_dict.keys())\n",
    "    for key in rd.sample(keys,len(keys)):\n",
    "        reference_row = [value for value in match_dict[key] if value not in chosen_list]\n",
    "        if len(reference_row) != 0:\n",
    "            random_choice = rd.randint(0,(len(reference_row)-1))\n",
    "            choice = reference_row[random_choice]\n",
    "            comparison_dict[key] = choice\n",
    "            chosen_list.append(choice)\n",
    "\n",
    "    for school in list(school_choice_dict.keys()):\n",
    "        if school in chosen_list:\n",
    "            school_choice_dict[school] = 1\n",
    "    \n",
    "    iter_value = utils.get_schedule_value(prio_list, school_choice_dict)\n",
    "    if iter_value > school_value: \n",
    "        print(f'School Value for iteration: {i} improved to {iter_value}')\n",
    "        school_value = iter_value\n",
    "        optimal_dict = collections.OrderedDict(sorted(comparison_dict.items()))\n",
    "        if EXTRA_OUTPUT:\n",
    "            for value in optimal_dict:\n",
    "                print(f'Date: {value} School: {optimal_dict[value]}')\n",
    "\n",
    "if DEBUG:\n",
    "    print(\"Dates Not Used: \")\n",
    "    print([value for value in unique_date_list if value not in list(optimal_dict.keys())])\n",
    "    print(\"Schools Not Used:\")\n",
    "    print([value for value in school_name_list if value not in list(optimal_dict.values())])"
   ]
  },
  {
   "cell_type": "code",
   "execution_count": null,
   "metadata": {},
   "outputs": [],
   "source": [
    "print(optimal_dict['10/25'])"
   ]
  },
  {
   "cell_type": "code",
   "execution_count": null,
   "metadata": {},
   "outputs": [],
   "source": []
  }
 ],
 "metadata": {
  "interpreter": {
   "hash": "491657023a65888314e2235e3e3440e6fd16bc7c4283ab24c440954e3f403090"
  },
  "kernelspec": {
   "display_name": "Python 3.9.7 64-bit ('play': conda)",
   "name": "python3"
  },
  "language_info": {
   "codemirror_mode": {
    "name": "ipython",
    "version": 3
   },
   "file_extension": ".py",
   "mimetype": "text/x-python",
   "name": "python",
   "nbconvert_exporter": "python",
   "pygments_lexer": "ipython3",
   "version": "3.9.7"
  },
  "orig_nbformat": 4
 },
 "nbformat": 4,
 "nbformat_minor": 2
}
